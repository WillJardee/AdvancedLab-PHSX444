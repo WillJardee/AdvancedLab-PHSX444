{
 "cells": [
  {
   "cell_type": "code",
   "execution_count": 1,
   "id": "31c9865b",
   "metadata": {},
   "outputs": [],
   "source": [
    "import astropy.units as u\n",
    "import matplotlib\n",
    "import matplotlib.pyplot as plt\n",
    "import numpy as np\n",
    "import pandas as pd\n",
    "matplotlib.use('nbagg')"
   ]
  },
  {
   "cell_type": "raw",
   "id": "6dff3ca1",
   "metadata": {},
   "source": [
    "import imageio\n",
    "im = imageio.imread(\"data/day1/vertical_calibration.bmp\")\n",
    "plt.figure(figsize=(21,14))\n",
    "plt.imshow(im,aspect='auto',origin='lower')\n",
    "plt.colorbar()\n",
    "plt.show()"
   ]
  },
  {
   "cell_type": "raw",
   "id": "2305c5c2",
   "metadata": {},
   "source": [
    "im = imageio.imread(\"data/day1/horizontal_calibrationv2.bmp\")\n",
    "plt.figure(figsize=(21,14))\n",
    "plt.imshow(im,aspect='auto',origin='lower')\n",
    "plt.colorbar()\n",
    "plt.show()"
   ]
  },
  {
   "cell_type": "code",
   "execution_count": 24,
   "id": "faf22283",
   "metadata": {},
   "outputs": [],
   "source": [
    "yscale = (641 + (668-641)/2) - (562 + (589-562)/2) \n",
    "xscale = (1058 + (1085-1058)/2) - (980 + (-980+1007)/2) \n",
    "xpix = u.def_unit('xpix', 1*u.nm/xscale)\n",
    "ypix = u.def_unit('ypix', 1*u.nm/yscale)"
   ]
  },
  {
   "cell_type": "code",
   "execution_count": 32,
   "id": "fc391625",
   "metadata": {},
   "outputs": [
    {
     "data": {
      "text/latex": [
       "$0.98734177 \\; \\mathrm{nm}$"
      ],
      "text/plain": [
       "<Quantity 0.98734177 nm>"
      ]
     },
     "execution_count": 32,
     "metadata": {},
     "output_type": "execute_result"
    }
   ],
   "source": [
    "(78 * xpix).to(u.nm)"
   ]
  },
  {
   "cell_type": "code",
   "execution_count": null,
   "id": "584289b8",
   "metadata": {},
   "outputs": [],
   "source": []
  }
 ],
 "metadata": {
  "kernelspec": {
   "display_name": "Python 3",
   "language": "python",
   "name": "python3"
  },
  "language_info": {
   "codemirror_mode": {
    "name": "ipython",
    "version": 3
   },
   "file_extension": ".py",
   "mimetype": "text/x-python",
   "name": "python",
   "nbconvert_exporter": "python",
   "pygments_lexer": "ipython3",
   "version": "3.8.8"
  }
 },
 "nbformat": 4,
 "nbformat_minor": 5
}
