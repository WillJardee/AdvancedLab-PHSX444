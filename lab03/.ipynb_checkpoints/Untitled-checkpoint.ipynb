{
 "cells": [
  {
   "cell_type": "code",
   "execution_count": 2,
   "metadata": {},
   "outputs": [],
   "source": [
    "import numpy as np\n",
    "import matplotlib.pyplot as plt\n",
    "import pandas as pd\n",
    "from PIL import Image\n",
    "import matplotlib\n",
    "# %matplotlib notebook"
   ]
  },
  {
   "cell_type": "code",
   "execution_count": 69,
   "metadata": {
    "scrolled": false
   },
   "outputs": [],
   "source": [
    "directory = \"./Trap14\"\n",
    "for n in range(1000):\n",
    "    im = Image.open(f\"{directory}/image_{n:05d}.png\")\n",
    "#     plt.imshow(im)\n",
    "#     plt.xlim(140, 220)\n",
    "#     plt.ylim(160,240)\n",
    "#     plt.show()\n",
    "    im.crop((100,125,250,275)).save(f\"{directory}_prossessed/image_{n:05d}.png\")"
   ]
  },
  {
   "cell_type": "code",
   "execution_count": 20,
   "metadata": {},
   "outputs": [],
   "source": [
    "import cv2\n",
    "images = []#list of cv2 image obj\n",
    "video = cv2.VideoWriter(\"test.AVI\", cv2.VideoWriter_fourcc(*'XVID'), 24, (1200,800))\n",
    "for n in range(1000):\n",
    "    im = Image.open(f\"{directory}/image_{n:05d}.png\")\n",
    "    video.write(np.asarray(im))\n"
   ]
  },
  {
   "cell_type": "code",
   "execution_count": 13,
   "metadata": {},
   "outputs": [
    {
     "data": {
      "text/plain": [
       "Index(['# x', 'y', 'error'], dtype='object')"
      ]
     },
     "execution_count": 13,
     "metadata": {},
     "output_type": "execute_result"
    }
   ],
   "source": [
    "df = pd.read_csv('data_11xy.csv')\n",
    "df.columns"
   ]
  },
  {
   "cell_type": "code",
   "execution_count": 14,
   "metadata": {},
   "outputs": [
    {
     "data": {
      "image/png": "[encoded data removed]",
      "text/plain": [
       "<Figure size 432x288 with 1 Axes>"
      ]
     },
     "metadata": {
      "needs_background": "light"
     },
     "output_type": "display_data"
    },
    {
     "data": {
      "image/png": "[encoded data removed]",
      "text/plain": [
       "<Figure size 432x288 with 1 Axes>"
      ]
     },
     "metadata": {
      "needs_background": "light"
     },
     "output_type": "display_data"
    }
   ],
   "source": [
    "# xlin = np.arange(0,1000)\n",
    "# plt.errorbar(xlin, df['# x'],yerr=df['error'], fmt='.')\n",
    "# plt.show()\n",
    "# plt.errorbar(xlin, df['y'],yerr=df['error'], fmt='.')\n",
    "# plt.show()\n",
    "\n",
    "plt.hist(df[\"# x\"], bins=100)\n",
    "plt.show()\n",
    "\n",
    "plt.hist(df[\"y\"], bins=100)\n",
    "plt.show()"
   ]
  },
  {
   "cell_type": "code",
   "execution_count": null,
   "metadata": {},
   "outputs": [],
   "source": []
  },
  {
   "cell_type": "code",
   "execution_count": null,
   "metadata": {},
   "outputs": [],
   "source": []
  }
 ],
 "metadata": {
  "kernelspec": {
   "display_name": "Python 3",
   "language": "python",
   "name": "python3"
  },
  "language_info": {
   "codemirror_mode": {
    "name": "ipython",
    "version": 3
   },
   "file_extension": ".py",
   "mimetype": "text/x-python",
   "name": "python",
   "nbconvert_exporter": "python",
   "pygments_lexer": "ipython3",
   "version": "3.8.8"
  }
 },
 "nbformat": 4,
 "nbformat_minor": 4
}
