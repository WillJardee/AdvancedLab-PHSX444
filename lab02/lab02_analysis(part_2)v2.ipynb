{
 "cells": [
  {
   "cell_type": "code",
   "execution_count": 1,
   "metadata": {},
   "outputs": [],
   "source": [
    "# imports\n",
    "import jupyterthemes as jt\n",
    "import matplotlib.pyplot as plt\n",
    "import numpy as np\n",
    "import pandas as pd\n",
    "from numpy.fft import fft, ifft\n",
    "# jt.jtplot.style()\n",
    "\n",
    "%matplotlib inline"
   ]
  },
  {
   "cell_type": "code",
   "execution_count": 2,
   "metadata": {},
   "outputs": [],
   "source": [
    "image_path = \"images/\""
   ]
  },
  {
   "cell_type": "code",
   "execution_count": 3,
   "metadata": {},
   "outputs": [],
   "source": [
    "color2, color1 = '#d44300', '#0091d4'  #red, #blue"
   ]
  },
  {
   "cell_type": "code",
   "execution_count": 6,
   "metadata": {},
   "outputs": [
    {
     "name": "stdout",
     "output_type": "stream",
     "text": [
      " Volume in drive C has no label.\n",
      " Volume Serial Number is F64F-FF16\n",
      "\n",
      " Directory of C:\\Users\\jarde\\Documents\\GitHub\\AdvancedLab-PHSX444\\lab02\\data\\part_2\\part_b\n",
      "\n",
      "10/16/2021  02:17 PM    <DIR>          .\n",
      "10/16/2021  02:17 PM    <DIR>          ..\n",
      "10/16/2021  02:17 PM         1,152,054 noise_drive_osci.BMP\n",
      "10/16/2021  02:17 PM            77,875 noise_drive_osci.CSV\n",
      "10/16/2021  02:17 PM             1,431 noise_drive_osci.SET\n",
      "10/16/2021  02:17 PM            14,400 noise_drive_spectrum.csv\n",
      "               4 File(s)      1,245,760 bytes\n",
      "               2 Dir(s)  172,136,284,160 bytes free\n"
     ]
    }
   ],
   "source": [
    "ls data\\part_2\\part_b"
   ]
  },
  {
   "cell_type": "code",
   "execution_count": 11,
   "metadata": {},
   "outputs": [
    {
     "data": {
      "text/plain": [
       "[<matplotlib.lines.Line2D at 0x23f593bac10>]"
      ]
     },
     "execution_count": 11,
     "metadata": {},
     "output_type": "execute_result"
    },
    {
     "data": {
      "image/png": "[encoded data removed]",
      "text/plain": [
       "<Figure size 432x288 with 1 Axes>"
      ]
     },
     "metadata": {
      "needs_background": "light"
     },
     "output_type": "display_data"
    }
   ],
   "source": [
    "data = pd.read_csv(\"data/part_2/part_b/\"+\"noise_drive_spectrum.csv\", header=None)\n",
    "plt.plot(data[0], data[1])"
   ]
  },
  {
   "cell_type": "code",
   "execution_count": null,
   "metadata": {},
   "outputs": [],
   "source": []
  }
 ],
 "metadata": {
  "kernelspec": {
   "display_name": "Python 3",
   "language": "python",
   "name": "python3"
  },
  "language_info": {
   "codemirror_mode": {
    "name": "ipython",
    "version": 3
   },
   "file_extension": ".py",
   "mimetype": "text/x-python",
   "name": "python",
   "nbconvert_exporter": "python",
   "pygments_lexer": "ipython3",
   "version": "3.8.3"
  }
 },
 "nbformat": 4,
 "nbformat_minor": 4
}
